{
 "cells": [
  {
   "cell_type": "markdown",
   "metadata": {},
   "source": [
    "DATA24HEL_DBT25/Databastyper\n",
    "# Kunskapskontroll 2\n",
    "\n",
    "Gör kurserna i den här samlingen: [https://learn.microsoft.com/en-us/collections/3140s6twkorq6z?&sharingId=A70F2DF98827F6CC](https://learn.microsoft.com/en-us/collections/3140s6twkorq6z?&sharingId=A70F2DF98827F6CC)\n",
    "\n",
    "### OBS! Du behöver __inte__ göra *exercises*!\n",
    "\n",
    "Svara på frågorna nedan. Eftersom kurserna är på engelska har jag skrivit även frågorna på engelska. Det går bra att svara på svenska eller engelska.\n"
   ]
  },
  {
   "cell_type": "markdown",
   "metadata": {},
   "source": [
    "---\n",
    "## Microsoft Azure Data Fundamentals: Explore core data concepts\n",
    "### Explore core data concepts\n",
    "#### Identify data formats\n",
    "\n",
    "❓ What data format is often represented as JSON?"
   ]
  },
  {
   "cell_type": "markdown",
   "metadata": {},
   "source": [
    "✔️ Answer: JSON are common for semi-structured data. Semi-structured data is information that has some structure, but which allows for some variation between entity instances"
   ]
  },
  {
   "cell_type": "markdown",
   "metadata": {},
   "source": [
    "❓ What data format is represented in a tabular format?"
   ]
  },
  {
   "cell_type": "markdown",
   "metadata": {},
   "source": [
    "✔️ Answer: Structured data. The data is represented in one or more tables that consist of rows to represent each instance of a data entity, and columns to represent attributes of the entity."
   ]
  },
  {
   "cell_type": "markdown",
   "metadata": {},
   "source": [
    "❓ What is the data format of images, pdf-documents and binary files called?"
   ]
  },
  {
   "cell_type": "markdown",
   "metadata": {},
   "source": [
    "✔️ Answer: Documents, images and binary files might not have a specific structure. This kind of data is referred to as unstructured data."
   ]
  },
  {
   "cell_type": "markdown",
   "metadata": {},
   "source": [
    "#### Explore file storage\n"
   ]
  },
  {
   "cell_type": "markdown",
   "metadata": {},
   "source": [
    "❓ Give an example of an optimized file format for structured and semi-structured data."
   ]
  },
  {
   "cell_type": "markdown",
   "metadata": {},
   "source": [
    "✔️ Answer: Parquet and Avro are optimized file formats for structured and semi-structured data. They provide efficient storage, compression and fast query performance."
   ]
  },
  {
   "cell_type": "markdown",
   "metadata": {},
   "source": [
    "#### Explore transactional data processing\n",
    "❓ What are OLTP systems designed for?\n"
   ]
  },
  {
   "cell_type": "markdown",
   "metadata": {},
   "source": [
    "✔️ Answer: OLTP (Online Transaction Processing) systems are designed for managing transactional workloads with high-speed read and write operations, ensuring data integrity and supporting concurrent users. OLTP systems are typically used to support live applications that process business data - often referred to as line of business (LOB) applications."
   ]
  },
  {
   "cell_type": "markdown",
   "metadata": {},
   "source": [
    "#### Explore analytical data processing\n",
    "❓ What are OLAP systems designed for?\n"
   ]
  },
  {
   "cell_type": "markdown",
   "metadata": {},
   "source": [
    "✔️ Answer: OLAP (Online Analytical Processing) systems are designed for performing complex queries, aggregations and multi-dimensional analysis on large volumes of data to support business intelligence and decision-making."
   ]
  },
  {
   "cell_type": "markdown",
   "metadata": {},
   "source": [
    "### Explore data roles and services\n",
    "#### Explore job roles in the world of data\n",
    "\n",
    "❓Describe some of the responsibilities of a:\n",
    "\n",
    "* Database Administrator\n",
    "* Data Engineer\n",
    "* Data Analyst"
   ]
  },
  {
   "cell_type": "markdown",
   "metadata": {},
   "source": [
    "✔️ Answer: \n",
    "Database Administrator (DBA): Manages database performance, security, backups and recovery. Ensures data integrity and availability.\n",
    "\n",
    "Data Engineer: Designs, builds and maintains data pipelines, ETL processes and data infrastructure for analysis and reporting.\n",
    "\n",
    "Data Analyst: Analyzes data, creates reports and dashboards and provides insights to help organizations make data-driven decisions."
   ]
  },
  {
   "cell_type": "markdown",
   "metadata": {},
   "source": [
    "---\n",
    "## Microsoft Azure Data Fundamentals: Explore relational data in Azure\n",
    "### Explore fundamental relational data concepts\n",
    "\n",
    "❓ How is relational data commonly organized?"
   ]
  },
  {
   "cell_type": "markdown",
   "metadata": {},
   "source": [
    "✔️ Answer: Relational data is organized into tables with rows (records) and columns (attributes), following a structured schema with relationships between tables defined by keys."
   ]
  },
  {
   "cell_type": "markdown",
   "metadata": {},
   "source": [
    "❓ What are the main reasons for normalizing relational data?"
   ]
  },
  {
   "cell_type": "markdown",
   "metadata": {},
   "source": [
    "✔️ Answer: Normalization reduces data redundancy, ensures data integrity, improves query performance and organizes data efficiently."
   ]
  },
  {
   "cell_type": "markdown",
   "metadata": {},
   "source": [
    "### Explore relational database services in Azure\n",
    "\n",
    "❓ Which of the Azure SQL services requires you to manage configuration, backups, and other maintenance tasks yourself?"
   ]
  },
  {
   "cell_type": "markdown",
   "metadata": {},
   "source": [
    "✔️ Answer: SQL Server on Azure Virtual Machines requires users to manage configurations, backups, patches and maintenance."
   ]
  },
  {
   "cell_type": "markdown",
   "metadata": {},
   "source": [
    "---\n",
    "## Microsoft Azure Data Fundamentals: Explore non-relational data in Azure\n",
    "### Explore Azure blob storage\n",
    "\n",
    "❓ What are the three types of blob that Azure Blob Storage supports?"
   ]
  },
  {
   "cell_type": "markdown",
   "metadata": {},
   "source": [
    "✔️ Answer: Block blobs, Append blobs and Page blobs.\n",
    "\n",
    "Block blobs. A block blob is handled as a set of blocks. Each block can vary in size. The block is the smallest amount of data that can be read or written as an individual unit. Block blobs are best used to store discrete, large, binary objects that change infrequently.\n",
    "\n",
    "Page blobs. A page blob is organized as a collection of fixed size 512-byte pages. A page blob is optimized to support random read and write operations. Fetch and store data for a single page if necessary. Azure uses page blobs to implement virtual disk storage for virtual machines.\n",
    "\n",
    "Append blobs. An append blob is a block blob optimized to support append operations. You can only add blocks to the end of an append blob; updating or deleting existing blocks isn't supported. Each block can vary in size. "
   ]
  },
  {
   "cell_type": "markdown",
   "metadata": {},
   "source": [
    "### Explore fundamentals of Azure Cosmos DB\n",
    "#### Describe Azure Cosmos DB\n",
    "\n",
    "❓ Which data storage scenarios are Azure Cosmos DB suitable for? "
   ]
  },
  {
   "cell_type": "markdown",
   "metadata": {},
   "source": [
    "✔️ Answer: Azure Cosmos DB is suitable for globally distributed applications, real-time analytics, IoT data, multi-model databases and applications requiring low-latency access."
   ]
  },
  {
   "cell_type": "markdown",
   "metadata": {},
   "source": [
    "#### Identify Azure Cosmos DB API\n",
    "\n",
    "❓ With Azure Cosmos DB for NoSQL you can use SQL syntax to make queries to a NoSQL database, but how are the results formatted?"
   ]
  },
  {
   "cell_type": "markdown",
   "metadata": {},
   "source": [
    "✔️ Answer: The results are formatted as JSON documents."
   ]
  },
  {
   "cell_type": "markdown",
   "metadata": {},
   "source": [
    "---\n",
    "## Explore fundamentals of large-scale analytics\n",
    "### Explore analytical data stores\n"
   ]
  },
  {
   "cell_type": "markdown",
   "metadata": {},
   "source": [
    "\n",
    "❓ What kind of analytical data store should you choose when you have structured data?"
   ]
  },
  {
   "cell_type": "markdown",
   "metadata": {},
   "source": [
    "✔️ Answer: Data warehouses such as Azure Synapse Analytics."
   ]
  },
  {
   "cell_type": "markdown",
   "metadata": {},
   "source": [
    "❓ What kind of analytical data store should you choose when you have a mix of structured, semi-structured and unstructured data?"
   ]
  },
  {
   "cell_type": "markdown",
   "metadata": {},
   "source": [
    "✔️ Answer: Data lakes such as Azure Data Lake Storage Gen2."
   ]
  },
  {
   "cell_type": "markdown",
   "metadata": {},
   "source": [
    "❓ What is a hybrid data store that combines features of data lakes and data warehouses called?"
   ]
  },
  {
   "cell_type": "markdown",
   "metadata": {},
   "source": [
    "✔️ Answer: A Lakehouse."
   ]
  },
  {
   "cell_type": "markdown",
   "metadata": {},
   "source": [
    "---\n",
    "## Store Data in Azure\n",
    "### Choose a data storage apporach in Azure\n",
    "#### Classify your data"
   ]
  },
  {
   "cell_type": "markdown",
   "metadata": {},
   "source": [
    "❓ How is business data classified?"
   ]
  },
  {
   "cell_type": "markdown",
   "metadata": {},
   "source": [
    "✔️ Answer: The classification for business data is structured.\n"
   ]
  },
  {
   "cell_type": "markdown",
   "metadata": {},
   "source": [
    "\n",
    "❓ How is data for a product catalog classified?"
   ]
  },
  {
   "cell_type": "markdown",
   "metadata": {},
   "source": [
    "✔️ Answer: The classification for product catalog data is semi-structured\n"
   ]
  },
  {
   "cell_type": "markdown",
   "metadata": {},
   "source": [
    "❓ How is data representing photos and videos classified?"
   ]
  },
  {
   "cell_type": "markdown",
   "metadata": {},
   "source": [
    "✔️ Answer: It is classified as unstructured data.\n"
   ]
  },
  {
   "cell_type": "markdown",
   "metadata": {},
   "source": [
    "#### Group multiple operations in a transaction\n",
    "\n",
    "❓ What is ACID?"
   ]
  },
  {
   "cell_type": "markdown",
   "metadata": {},
   "source": [
    "✔️ Answer: ACID stands for Atomicity, Consistency, Isolation and Durability, which are properties ensuring reliable database transactions.\n",
    "\n",
    "Atomicity means a transaction must run exactly once and it must be atomic. Either all of the work is done or none of it is. Operations within a transaction usually share a common intent and are interdependent.\n",
    "\n",
    "Consistency ensures that the data is consistent both before and after the transaction.\n",
    "\n",
    "Isolation ensures that each transaction is unaffected by other transactions.\n",
    "\n",
    "Durability means that changes made as a result of a transaction are permanently saved in the system. The system saves data that's committed so even in the event of a failure and system restart, the data is available in its correct state.\n"
   ]
  },
  {
   "cell_type": "markdown",
   "metadata": {},
   "source": [
    "❓ Which of the three datasets (product catalog, photos and videos, business data) is transactional?"
   ]
  },
  {
   "cell_type": "markdown",
   "metadata": {},
   "source": [
    "✔️ Answer: Business data and product catalog data are transactional.\n"
   ]
  },
  {
   "cell_type": "markdown",
   "metadata": {},
   "source": [
    "#### Choose a storage solution in Azure"
   ]
  },
  {
   "cell_type": "markdown",
   "metadata": {},
   "source": [
    "❓ What is the recommended service for a semi-structured dataset that needs a high number of both read and write operations?"
   ]
  },
  {
   "cell_type": "markdown",
   "metadata": {},
   "source": [
    "✔️ Answer: Azure Cosmos DB.\n"
   ]
  },
  {
   "cell_type": "markdown",
   "metadata": {},
   "source": [
    "❓ What is the recommended service for a structured dataset that will be used for analytical purposes only?"
   ]
  },
  {
   "cell_type": "markdown",
   "metadata": {},
   "source": [
    "✔️ Answer: Azure Synapse Analytics.\n"
   ]
  },
  {
   "cell_type": "markdown",
   "metadata": {},
   "source": [
    "### Create an Azure Storage Account\n",
    "#### Decide how many storage accounts you need"
   ]
  },
  {
   "cell_type": "markdown",
   "metadata": {},
   "source": [
    "❓ What is the difference between Hot and Cold access tiers?"
   ]
  },
  {
   "cell_type": "markdown",
   "metadata": {},
   "source": [
    "✔️ Answer: Hot tier: Optimized for frequent access; higher storage costs but lower access costs.\n",
    "\n",
    "Cold tier: Optimized for infrequent access; lower storage costs but higher access costs."
   ]
  },
  {
   "cell_type": "markdown",
   "metadata": {},
   "source": [
    "#### Choose your account settings"
   ]
  },
  {
   "cell_type": "markdown",
   "metadata": {},
   "source": [
    "❓ When creating an Azure Storage Account, which deployment model should you choose?"
   ]
  },
  {
   "cell_type": "markdown",
   "metadata": {},
   "source": [
    "✔️ Answer: Resource Manager deployment model.\n"
   ]
  },
  {
   "cell_type": "markdown",
   "metadata": {},
   "source": [
    "#### Choose an account creation tool"
   ]
  },
  {
   "cell_type": "markdown",
   "metadata": {},
   "source": [
    "❓ The most commonly used account creation tool is the Azure Portal. Why?"
   ]
  },
  {
   "cell_type": "markdown",
   "metadata": {},
   "source": [
    "✔️ Answer: The Azure Portal is the most commonly used tool because it provides a user-friendly, graphical interface that simplifies account creation, management and configuration without requiring scripting or command-line tools.\n"
   ]
  },
  {
   "cell_type": "markdown",
   "metadata": {},
   "source": [
    "### Secure your Azure Storage account\n",
    "#### Explore Azure Storage security features"
   ]
  },
  {
   "cell_type": "markdown",
   "metadata": {},
   "source": [
    "❓ How do you disable encryption at rest?"
   ]
  },
  {
   "cell_type": "markdown",
   "metadata": {},
   "source": [
    "✔️ Answer: You cannot disable encryption at rest in Azure; it is always enabled by default.\n"
   ]
  },
  {
   "cell_type": "markdown",
   "metadata": {},
   "source": [
    "❓ What happens if you require *secure transfer* for your storage account?"
   ]
  },
  {
   "cell_type": "markdown",
   "metadata": {},
   "source": [
    "✔️ Answer: All requests to the storage account must be made over HTTPS.\n"
   ]
  },
  {
   "cell_type": "markdown",
   "metadata": {},
   "source": [
    "❓ What is CORS?"
   ]
  },
  {
   "cell_type": "markdown",
   "metadata": {},
   "source": [
    "✔️ Answer: Cross-Origin Resource Sharing (CORS) is a security feature that allows or restricts web applications from making requests to a different domain than their own.\n"
   ]
  },
  {
   "cell_type": "markdown",
   "metadata": {},
   "source": [
    "❓ Which Azure service can you use to audit accesses to your data?"
   ]
  },
  {
   "cell_type": "markdown",
   "metadata": {},
   "source": [
    "✔️ Answer: Azure Monitor and Azure Storage Analytics Logging.\n"
   ]
  },
  {
   "cell_type": "markdown",
   "metadata": {},
   "source": [
    "#### Understand storage account keys"
   ]
  },
  {
   "cell_type": "markdown",
   "metadata": {},
   "source": [
    "❓ Which authentication option is the best for Blob and Queue storage?"
   ]
  },
  {
   "cell_type": "markdown",
   "metadata": {},
   "source": [
    "✔️ Answer: Azure AD authentication (preferred over storage account keys).\n"
   ]
  },
  {
   "cell_type": "markdown",
   "metadata": {},
   "source": [
    "#### Understand shared access signatures (SAS)"
   ]
  },
  {
   "cell_type": "markdown",
   "metadata": {},
   "source": [
    "❓ What are the two levels of SAS?"
   ]
  },
  {
   "cell_type": "markdown",
   "metadata": {},
   "source": [
    "✔️ Answer: Service-level SAS and Account-level SAS.\n"
   ]
  },
  {
   "cell_type": "markdown",
   "metadata": {},
   "source": [
    "#### Control network access to your storage account"
   ]
  },
  {
   "cell_type": "markdown",
   "metadata": {},
   "source": [
    "❓ What must you do before you change the default network access action from *grant* to *deny*?"
   ]
  },
  {
   "cell_type": "markdown",
   "metadata": {},
   "source": [
    "✔️ Answer: Before changing the default network access action from grant to deny, you must configure Virtual Network (VNet) rules, IP-based access control lists or Private Endpoints to ensure that necessary resources can still access the storage account.\n"
   ]
  },
  {
   "cell_type": "markdown",
   "metadata": {},
   "source": [
    "### Store application data with Azure Blob Storage\n",
    "#### What are blobs?"
   ]
  },
  {
   "cell_type": "markdown",
   "metadata": {},
   "source": [
    "❓ What kind of data can't be stored as a blob?"
   ]
  },
  {
   "cell_type": "markdown",
   "metadata": {},
   "source": [
    "✔️ Answer: Blob storage is not designed for structured, relational data like databases nor does it support executable files that require direct processing within Azure.\n"
   ]
  },
  {
   "cell_type": "markdown",
   "metadata": {},
   "source": [
    "❓ What kind of data shouldn't be stored as a blob?"
   ]
  },
  {
   "cell_type": "markdown",
   "metadata": {},
   "source": [
    "✔️ Answer: Sensitive data that requires strict access control, low-latency transactional data or frequently updated files might not be ideal for Blob Storage due to potential performance and security concerns.\n"
   ]
  },
  {
   "cell_type": "markdown",
   "metadata": {},
   "source": [
    "---\n",
    "## Integrate data with Azure Data Factory or Azure Synapse Pipeline\n",
    "### Understand Azure Data Factory"
   ]
  },
  {
   "cell_type": "markdown",
   "metadata": {},
   "source": [
    "❓ Which part of the symphony orchestra does Azure Data Factory play, according to the analogy?"
   ]
  },
  {
   "cell_type": "markdown",
   "metadata": {},
   "source": [
    "✔️ Answer: Azure Data Factory is like the conductor of the orchestra, orchestrating data movement and transformation across various services.\n"
   ]
  },
  {
   "cell_type": "markdown",
   "metadata": {},
   "source": [
    "#### Describe data integration patterns"
   ]
  },
  {
   "cell_type": "markdown",
   "metadata": {},
   "source": [
    "❓ What does ETL stand for?"
   ]
  },
  {
   "cell_type": "markdown",
   "metadata": {},
   "source": [
    "✔️ Answer: Extract, Transform, Load.\n"
   ]
  },
  {
   "cell_type": "markdown",
   "metadata": {},
   "source": [
    "❓ What does ELT stand for?"
   ]
  },
  {
   "cell_type": "markdown",
   "metadata": {},
   "source": [
    "✔️ Answer: Extract, Load, Transform.\n"
   ]
  },
  {
   "cell_type": "markdown",
   "metadata": {},
   "source": [
    "❓ What is the difference between ETL and ELT?"
   ]
  },
  {
   "cell_type": "markdown",
   "metadata": {},
   "source": [
    "✔️ Answer: ETL: Data is extracted from a source, transformed before loading into a target system (typically a data warehouse).\n",
    "\n",
    "ELT: Data is extracted and loaded into the target system first, where transformations occur later, leveraging the power of modern data warehouses.\n"
   ]
  },
  {
   "cell_type": "markdown",
   "metadata": {},
   "source": [
    "#### Create Data Factory activities and pipelines"
   ]
  },
  {
   "cell_type": "markdown",
   "metadata": {},
   "source": [
    "❓ Which are the three categories of Azure Data factory activities?"
   ]
  },
  {
   "cell_type": "markdown",
   "metadata": {},
   "source": [
    "✔️ Answer: Data Movement Activities – Move data between sources and destinations.\n",
    "\n",
    "Data Transformation Activities – Process and transform data.\n",
    "\n",
    "Control Flow Activities – Manage execution flow within pipelines.\n"
   ]
  },
  {
   "cell_type": "markdown",
   "metadata": {},
   "source": [
    "---\n",
    "## Large-scale data processing with Azure Data Lake Storage Gen2\n",
    "### Introduction to Azure Data Lake Storage Gen2\n",
    "#### Understand Azure Data Lake Storage Gen2"
   ]
  },
  {
   "cell_type": "markdown",
   "metadata": {},
   "source": [
    "❓ Which format is data stored in in a data lake?"
   ]
  },
  {
   "cell_type": "markdown",
   "metadata": {},
   "source": [
    "✔️ Answer: Data is stored in its raw format (structured, semi-structured or unstructured).\n"
   ]
  },
  {
   "cell_type": "markdown",
   "metadata": {},
   "source": [
    "❓ Which factors should influence the planning of a data lake?"
   ]
  },
  {
   "cell_type": "markdown",
   "metadata": {},
   "source": [
    "✔️ Answer: Scalability, security, data governance, performance and cost.\n",
    "\n",
    "Whenever planning for a data lake, give thoughtful consideration to structure, data governance and security. This should include consideration of factors that can influence lake structure and organization, such as:\n",
    "\n",
    "Types of data to be stored\n",
    "\n",
    "How the data will be transformed\n",
    "\n",
    "Who should access the data\n",
    "\n",
    "What are the typical access patterns\n"
   ]
  },
  {
   "cell_type": "markdown",
   "metadata": {},
   "source": [
    "#### Enable Azure Data Lake storage Gen2 in Azure Storage"
   ]
  },
  {
   "cell_type": "markdown",
   "metadata": {},
   "source": [
    "❓ What is the name of the option that enables Azure Data Lake Storage Gen2?"
   ]
  },
  {
   "cell_type": "markdown",
   "metadata": {},
   "source": [
    "✔️ Answer: Hierarchical Namespace (HNS). Enabling Hierarchical Namespace in an Azure Storage account activates Azure Data Lake Storage Gen2 features, such as directory structures and ACL-based security. ACL-based security (Access Control List-based security) is a way of managing permissions at the file and directory level.\n"
   ]
  },
  {
   "cell_type": "markdown",
   "metadata": {},
   "source": [
    "#### Compare Azure Data Lake Storage and Azure Blob storage"
   ]
  },
  {
   "cell_type": "markdown",
   "metadata": {},
   "source": [
    "❓ What is the main difference between Azure Data Lake Storage and Azure Blob storage?"
   ]
  },
  {
   "cell_type": "markdown",
   "metadata": {},
   "source": [
    "✔️ Answer: Azure Data Lake Storage Gen2 supports Hierarchical Namespace (HNS) for better performance and analytics, while Blob Storage does not.\n"
   ]
  },
  {
   "cell_type": "markdown",
   "metadata": {},
   "source": [
    "❓ What kind of storage account should you use to store website assets such as images and videos?"
   ]
  },
  {
   "cell_type": "markdown",
   "metadata": {},
   "source": [
    "✔️ Answer: Azure Blob Storage. In Azure Blob storage you can store large amounts of unstructured (\"object\") data in a flat namespace within a blob container. Blob storage to archive rarely used data or to store website assets such as images and media.\n"
   ]
  },
  {
   "cell_type": "markdown",
   "metadata": {},
   "source": [
    "❓ What kind of storage account should you use to store data that you wih to perform analytics on?"
   ]
  },
  {
   "cell_type": "markdown",
   "metadata": {},
   "source": [
    "✔️ Answer: Azure Data Lake Storage Gen2. Hierarchical namespaces keep the data organized, which yields better storage and retrieval performance for an analytical use case and lowers the cost of analysis. Azure Data Lake Storage Gen2 is integrated into the Azure Storage platform, applications can use either the Blob APIs or the Azure Data Lake Storage Gen2 file system APIs to access data.\n"
   ]
  },
  {
   "cell_type": "markdown",
   "metadata": {},
   "source": [
    "#### Use Azure Data Lake Storage Gen2 in data analytics workloads"
   ]
  },
  {
   "cell_type": "markdown",
   "metadata": {},
   "source": [
    "❓ What are the three \"v's\" that are involved when processing big data?"
   ]
  },
  {
   "cell_type": "markdown",
   "metadata": {},
   "source": [
    "✔️ Answer: Volume, Velocity and Variety.\n"
   ]
  },
  {
   "cell_type": "markdown",
   "metadata": {},
   "source": []
  }
 ],
 "metadata": {
  "kernelspec": {
   "display_name": "Python 3 (ipykernel)",
   "language": "python",
   "name": "python3",
   "path": "/home/linus/.local/share/jupyter/kernels/python3"
  }
 },
 "nbformat": 4,
 "nbformat_minor": 4
}
